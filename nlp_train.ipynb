{
 "cells": [
  {
   "cell_type": "code",
   "execution_count": 1,
   "id": "de041000-6c6c-4332-b16a-f5860ae7f5cd",
   "metadata": {},
   "outputs": [],
   "source": [
    "import os\n",
    "import numpy as np\n",
    "from sklearn.feature_extraction.text import CountVectorizer\n",
    "import pandas as pd\n",
    "import matplotlib.pyplot as plt\n",
    "import functions as fn\n",
    "import time"
   ]
  },
  {
   "cell_type": "code",
   "execution_count": 2,
   "id": "af149062-d606-4561-a298-b90a97381125",
   "metadata": {},
   "outputs": [],
   "source": [
    "# debug dataset\n",
    "debugFilepath = './data/debug/reviews.tsv'\n",
    "debugDictFilepath = './data/debug/dict.txt'\n",
    "\n",
    "# full dataset\n",
    "trainFilepath = './data/full/train_data.tsv'\n",
    "valFilepath = './data/full/valid_data.tsv'\n",
    "testFilepath = './data/full/test_data.tsv'\n",
    "fullDictFilepath = './data/full/dict.txt' \n",
    "\n",
    "# token for bias term\n",
    "bias = '<BIAS>'"
   ]
  },
  {
   "cell_type": "code",
   "execution_count": 3,
   "id": "1332eefc-4b34-4677-8428-4406acb36823",
   "metadata": {},
   "outputs": [],
   "source": [
    "def load_dict(dictFilepath: str):\n",
    "    token2Index = dict()\n",
    "\n",
    "    # adding everything from dict.txt\n",
    "    with open(dictFilepath, 'r') as f:\n",
    "        for line in f.readlines():\n",
    "            word, index = line.strip().split(' ')\n",
    "            token2Index[word] = int(index)\n",
    "\n",
    "    # adding bias term\n",
    "    token2Index[bias] = len(token2Index)\n",
    "\n",
    "    return token2Index"
   ]
  },
  {
   "cell_type": "code",
   "execution_count": 4,
   "id": "be08844a-86ea-4b42-b5b0-cc8c3aa74dfb",
   "metadata": {},
   "outputs": [
    {
     "name": "stdout",
     "output_type": "stream",
     "text": [
      "1\ti had been expecting more of this movie than the less than thrilling twister . twister was good but had no real plot and no one to simpithize with . but twister had amazing effects and i was hoping so would volcano volcano starts with tommy lee jones at emo . he worrys about a small earthquake enough to leave his daughter at home with a baby sitter . there is one small quake then another quake . then a geologist points out to tommy that its takes a geologic event to heat millions of gallons of water in 12 hours . a few hours later large amount of ash start to fall . then . . . . it starts . the volcanic eruption . . . . i liked this movie . . . but it was not as great as i hoped . i was still good none the less . it had excellent special effects . the best view . . . the helecopters flying over the streets of volcanos . also . . . there were interesting side stories that made the plot more interesting . so . . . it was good ! ! \n",
      "\n",
      "0\tdeserves recognition for : achieving the near-impossible task of making a grander monument to self-love than steven seagal's on deadly ground . capsule review : a question : after the floating baby ruth that was waterworld , what in the @$&% were the hollywood execs who gave kevin costner the money to make another post-apocalyptic movie thinking ? in this 3 hour advertisement for his new hair weave , costner plays a nameless drifter who dons a long dead postal employee's uniform and gradually turns a nuked-out usa into an idealized hippy-dippy society .  ( judging by the costuming at the end of the movie , the main accomplishment of this brave new world is in re-inventing polyester . ) when he's not pointing the camera directly at himself , director costner does have a nice visual sense , and it is undeniably fascinating to see such an unabashedly jingoistic film in the trust-no-one 90's ; but by the time the second hour rolled around , i was reduced to sitting on my hands to keep from clawing out my own eyes . mark this one \" return to sender \" . \n",
      "\n"
     ]
    }
   ],
   "source": [
    "with open(debugFilepath, 'r') as f:\n",
    "    for line in f.readlines():\n",
    "        print(line)"
   ]
  },
  {
   "cell_type": "code",
   "execution_count": 5,
   "id": "ea1fdc10-18ea-465a-94ac-d57dcc361e04",
   "metadata": {},
   "outputs": [
    {
     "name": "stdout",
     "output_type": "stream",
     "text": [
      "{'i': 0, 'had': 1, 'been': 2, 'expecting': 3, 'more': 4, 'of': 5, 'this': 6, 'movie': 7, 'than': 8, 'the': 9, 'less': 10, 'thrilling': 11, 'twister': 12, 'was': 13, 'good': 14, 'but': 15, 'no': 16, 'real': 17, 'plot': 18, 'and': 19, 'one': 20, 'to': 21, 'simpithize': 22, 'with': 23, 'amazing': 24, 'effects': 25, 'hoping': 26, 'so': 27, 'would': 28, 'volcano': 29, 'starts': 30, 'tommy': 31, 'lee': 32, 'jones': 33, 'at': 34, 'emo': 35, 'he': 36, 'worrys': 37, 'about': 38, 'a': 39, 'small': 40, 'earthquake': 41, 'enough': 42, 'leave': 43, 'his': 44, 'daughter': 45, 'home': 46, 'baby': 47, 'sitter': 48, 'there': 49, 'is': 50, 'quake': 51, 'then': 52, 'another': 53, 'geologist': 54, 'points': 55, 'out': 56, 'that': 57, 'its': 58, 'takes': 59, 'geologic': 60, 'event': 61, 'heat': 62, 'millions': 63, 'gallons': 64, 'water': 65, 'in': 66, '12': 67, 'hours': 68, 'few': 69, 'later': 70, 'large': 71, 'amount': 72, 'ash': 73, 'start': 74, 'fall': 75, 'it': 76, 'volcanic': 77, 'eruption': 78, 'liked': 79, 'not': 80, 'as': 81, 'great': 82, 'hoped': 83, 'still': 84, 'none': 85, 'excellent': 86, 'special': 87, 'best': 88, 'view': 89, 'helecopters': 90, 'flying': 91, 'over': 92, 'streets': 93, 'volcanos': 94, 'also': 95, 'were': 96, 'interesting': 97, 'side': 98, 'stories': 99, 'made': 100, 'deserves': 101, 'recognition': 102, 'for': 103, 'achieving': 104, 'near-impossible': 105, 'task': 106, 'making': 107, 'grander': 108, 'monument': 109, 'self-love': 110, 'steven': 111, \"seagal's\": 112, 'on': 113, 'deadly': 114, 'ground': 115, 'capsule': 116, 'review': 117, 'question': 118, 'after': 119, 'floating': 120, 'ruth': 121, 'waterworld': 122, 'what': 123, '@$&%': 124, 'hollywood': 125, 'execs': 126, 'who': 127, 'gave': 128, 'kevin': 129, 'costner': 130, 'money': 131, 'make': 132, 'post-apocalyptic': 133, 'thinking': 134, '3': 135, 'hour': 136, 'advertisement': 137, 'new': 138, 'hair': 139, 'weave': 140, 'plays': 141, 'nameless': 142, 'drifter': 143, 'dons': 144, 'long': 145, 'dead': 146, 'postal': 147, \"employee's\": 148, 'uniform': 149, 'gradually': 150, 'turns': 151, 'nuked-out': 152, 'usa': 153, 'into': 154, 'an': 155, 'idealized': 156, 'hippy-dippy': 157, 'society': 158, 'judging': 159, 'by': 160, 'costuming': 161, 'end': 162, 'main': 163, 'accomplishment': 164, 'brave': 165, 'world': 166, 're-inventing': 167, 'polyester': 168, 'when': 169, \"he's\": 170, 'pointing': 171, 'camera': 172, 'directly': 173, 'himself': 174, 'director': 175, 'does': 176, 'have': 177, 'nice': 178, 'visual': 179, 'sense': 180, 'undeniably': 181, 'fascinating': 182, 'see': 183, 'such': 184, 'unabashedly': 185, 'jingoistic': 186, 'film': 187, 'trust-no-one': 188, \"90's\": 189, 'time': 190, 'second': 191, 'rolled': 192, 'around': 193, 'reduced': 194, 'sitting': 195, 'my': 196, 'hands': 197, 'keep': 198, 'from': 199, 'clawing': 200, 'own': 201, 'eyes': 202, 'mark': 203, 'return': 204, 'sender': 205, '<BIAS>': 206}\n"
     ]
    }
   ],
   "source": [
    "token2IndexDebug = load_dict(debugDictFilepath)\n",
    "print(token2IndexDebug)"
   ]
  },
  {
   "cell_type": "code",
   "execution_count": 6,
   "id": "19cb61a0-e8a0-4a3e-a176-85730a5e15cb",
   "metadata": {},
   "outputs": [],
   "source": [
    "ex = np.array(['The dog is an amazing dancer',\n",
    "             'The dog has an amazing coat'])"
   ]
  },
  {
   "cell_type": "code",
   "execution_count": 7,
   "id": "0131543c-e3ea-4985-82c2-5868d8713db5",
   "metadata": {},
   "outputs": [
    {
     "name": "stdout",
     "output_type": "stream",
     "text": [
      "   amazing  an  coat  dancer  dog  has  is  the\n",
      "0        1   1     0       1    1    0   1    1\n",
      "1        1   1     1       0    1    1   0    1\n"
     ]
    }
   ],
   "source": [
    "cvect = CountVectorizer(binary=True)\n",
    "dtm = cvect.fit_transform(ex)\n",
    "dtm = dtm.toarray()\n",
    "features = cvect.get_feature_names_out()\n",
    "\n",
    "df = pd.DataFrame(dtm, columns=features)\n",
    "print(df)"
   ]
  },
  {
   "cell_type": "code",
   "execution_count": 8,
   "id": "4d75b3ef-e9c9-4967-8305-2b5a1ea54343",
   "metadata": {},
   "outputs": [],
   "source": [
    "trainData = pd.read_csv(trainFilepath, sep = '\\t', header = None)\n",
    "valData = pd.read_csv(valFilepath, sep = '\\t', header = None)\n",
    "testData = pd.read_csv(testFilepath, sep = '\\t', header = None)"
   ]
  },
  {
   "cell_type": "code",
   "execution_count": 9,
   "id": "030952d4-077e-4917-8a24-56844df37de7",
   "metadata": {},
   "outputs": [],
   "source": [
    "cvect = CountVectorizer(binary = True, max_features=10000)\n",
    "xTrain = cvect.fit_transform(trainData.iloc[:, 1])\n",
    "yTrain = trainData.iloc[:, 0].values.reshape(-1, 1)\n",
    "xVal = cvect.transform(valData.iloc[:, 1])\n",
    "yVal = valData.iloc[:, 0].values.reshape(-1, 1)\n",
    "xTest = cvect.transform(testData.iloc[:, 1])\n",
    "yTest = testData.iloc[:, 0].values.reshape(-1, 1)"
   ]
  },
  {
   "cell_type": "code",
   "execution_count": 10,
   "id": "d1f01310-bb94-412b-ae4b-87c71bb3350b",
   "metadata": {},
   "outputs": [
    {
     "name": "stdout",
     "output_type": "stream",
     "text": [
      "First Review Encoded:\n",
      "(1200, 1)\n"
     ]
    }
   ],
   "source": [
    "print('First Review Encoded:')\n",
    "print(yTrain.shape)"
   ]
  },
  {
   "cell_type": "code",
   "execution_count": 11,
   "id": "61902bf9-8d79-462f-8c6e-b3130d24cc26",
   "metadata": {},
   "outputs": [
    {
     "name": "stdout",
     "output_type": "stream",
     "text": [
      "Start training...finished!\n",
      "The best parameters are found at epoch 6, with train nll = 0.0567, val nll = 0.3168, train error_rate = 0.0000, best val error_rate = 0.1350, test error_rate = 0.1575\n",
      "Total time = 32.2533s\n"
     ]
    },
    {
     "data": {
      "image/png": "[encoded data removed]",
      "text/plain": [
       "<Figure size 640x480 with 1 Axes>"
      ]
     },
     "metadata": {},
     "output_type": "display_data"
    }
   ],
   "source": [
    "#setting up the experimental parameters\n",
    "numFeatures = xTrain.shape[1]\n",
    "numEpochs = 300\n",
    "lr = 0.01\n",
    "\n",
    "xTrain = xTrain.toarray()\n",
    "xVal = xVal.toarray()\n",
    "xTest = xTest.toarray()\n",
    "\n",
    "# training and validation\n",
    "print('Start training...', end='')\n",
    "start = time.time()\n",
    "output = fn.train_evaluate_model(xTrain, yTrain, xVal, yVal, numEpochs, lr, visualize_nlls=True)\n",
    "end = time.time()\n",
    "print('finished!')\n",
    "\n",
    "# finally testing\n",
    "yHatTest = fn.predict(xTest, output['best_theta'])\n",
    "testError = fn.error_rate(yTest, yHatTest)\n",
    "\n",
    "# print outputs\n",
    "print('The best parameters are found at epoch %d, with train nll = %0.4f, val nll = %0.4f, \\\n",
    "train error_rate = %0.4f, best val error_rate = %0.4f, test error_rate = %0.4f' % (output['best_epoch'], output['best_train_nll'], \\\n",
    "output['best_val_nll'], output['train_error'], output['val_error'], testError))\n",
    "print('Total time = %0.4fs' % (end-start))"
   ]
  },
  {
   "cell_type": "code",
   "execution_count": 12,
   "id": "2d33458b-9a46-4db8-9257-c2662139245e",
   "metadata": {},
   "outputs": [
    {
     "name": "stdout",
     "output_type": "stream",
     "text": [
      "Review = david spade has a snide , sarcastic sense of humor that works perfectly on the tv sitcom just shoot me . it also served as a good showcase for him when he co-starred , opposite the late chris farley , in tommy boy and black sheep . lost and found marks the comedian's first attempt at going solo in a movie , and it also reveals that when spade doesn't have a reliable back-up system , his brand of humor seems more desperate than one may expect . david spade is not the problem with lost and found . he plays dylan ramsey , the sweet main character , to the best of his abilities . the story revolves around dylan's obsessions with his beautiful new neighbour , lila dubois ( sophie marceau , from braveheart ) , and her terrier named jack . dylan believes that the best way to a woman's heart is through her dog . and so he kidnaps jack , planning to stage a fake rescue , in hope to win lila over . there are three good things about lost and found . the first is spade . the second is sophie marceau , a lovely actress who's been planted into the wrong movie . lastly , there's the dog , who is used here in a similar context to puffy from there's something about mary . unfortunately , director jeff pollack finds more humor in putting jack through a cycle in the drier than he does with simply making him look cute . this kind of physical humor is dead . pollack does everything but beat the poor pooch with a baseball bat to get laughs , and this procedure is cheap , unfunny and resoundingly cruel . this is where i start to get fuzzy . also in this unusual blend is ( apparently ) a sweet-natured love story between dylan and lila . given the mean-spirited comedy that the movie is obviously striving for , i found this hard to swallow . and , why does dylan even deserve someone like lila , after kidnapping her precious dog and putting it through such pain ? predictably , lost and found opts for a happy ending , one that feels so sentimental , gooey , and rings so false that it sets off a siren in your head that makes you feel a bit cheated . david spade ( who also co-wrote the movie ) tries hard , so very hard , to make this project amusing . there are some choice scenes that are quite funny , but the movie is only sporadically funny . patrick bruel plays the stock character of rene , the pompous jerk who also wants to win lila over , with his good looks and money . jon lovitz and martin sheen are welcome additions in two tiny supporting roles . despite a few positive attributes , lost and found just doesn't work . if you're searching for an enjoyable romantic-comedy , you could do far better than this obvious , misguided failure that shows a blatant disregard for what it's trying to present .\n",
      "True sentiment = 0\n",
      "Predicted sentiment = 0\n"
     ]
    }
   ],
   "source": [
    "# print out the first review of the test dataset and its corresponding true sentiment\n",
    "with open(testFilepath, 'r') as f:\n",
    "    firstLine = f.readlines()[0]\n",
    "    label, review = firstLine.strip().split('\\t')\n",
    "    print('Review =', review)\n",
    "    print('True sentiment =', label)\n",
    "\n",
    "# make prediction. Because predict returns a 2D array, we index to get the element\n",
    "review = np.array(fn.predict(np.array([xTest[0]]), output['best_theta']))[0, 0]\n",
    "\n",
    "# output\n",
    "print('Predicted sentiment =', review)"
   ]
  },
  {
   "cell_type": "code",
   "execution_count": 13,
   "id": "f50bb72e-3101-49f1-b4a1-706953671286",
   "metadata": {},
   "outputs": [
    {
     "name": "stdout",
     "output_type": "stream",
     "text": [
      "True\tPredicted\n",
      "0\t0\n",
      "0\t0\n",
      "1\t1\n",
      "1\t0\n",
      "1\t0\n",
      "1\t1\n",
      "0\t1\n",
      "0\t0\n",
      "1\t1\n",
      "1\t0\n"
     ]
    }
   ],
   "source": [
    "# Get predictions for the first 10 test samples\n",
    "preds = np.array(fn.predict(xTest[:10], output['best_theta']))\n",
    "trues = yTest[:10].flatten()\n",
    "\n",
    "print(\"True\\tPredicted\")\n",
    "for t, p in zip(trues, preds.flatten()):\n",
    "    print(f\"{t}\\t{p}\")"
   ]
  },
  {
   "cell_type": "code",
   "execution_count": null,
   "id": "8b84730d-b989-441f-903e-d0456080b9c1",
   "metadata": {},
   "outputs": [],
   "source": []
  }
 ],
 "metadata": {
  "kernelspec": {
   "display_name": "Python 3 (ipykernel)",
   "language": "python",
   "name": "python3"
  },
  "language_info": {
   "codemirror_mode": {
    "name": "ipython",
    "version": 3
   },
   "file_extension": ".py",
   "mimetype": "text/x-python",
   "name": "python",
   "nbconvert_exporter": "python",
   "pygments_lexer": "ipython3",
   "version": "3.13.3"
  }
 },
 "nbformat": 4,
 "nbformat_minor": 5
}
